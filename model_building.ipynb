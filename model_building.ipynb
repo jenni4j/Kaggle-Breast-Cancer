{
 "cells": [
  {
   "cell_type": "code",
   "execution_count": 2,
   "metadata": {},
   "outputs": [],
   "source": [
    "import pandas as pd\n",
    "import numpy as np\n",
    "from PIL import Image\n",
    "import cv2\n",
    "\n",
    "import os\n",
    "# import random\n",
    "# import shutil"
   ]
  },
  {
   "cell_type": "code",
   "execution_count": 14,
   "metadata": {},
   "outputs": [],
   "source": [
    "data_dir = os.getcwd() + \"/datasets\"\n",
    "train_dir = data_dir + \"/train\"\n",
    "val_dir = data_dir + \"/val\"\n",
    "test_dir = data_dir +  \"/test\""
   ]
  },
  {
   "cell_type": "markdown",
   "metadata": {},
   "source": [
    "#### Loading each image and their label into an array"
   ]
  },
  {
   "cell_type": "code",
   "execution_count": 15,
   "metadata": {},
   "outputs": [],
   "source": [
    "def preprocessing(img):\n",
    "    # common size for images\n",
    "    IMG_HEIGHT, IMG_WIDTH = 128, 128\n",
    "    img_array = cv2.imread(img)\n",
    "    img_resized = cv2.resize(img_array, (IMG_WIDTH, IMG_HEIGHT))\n",
    "    img_norm = img_resized\n",
    "    return img_norm\n",
    "\n",
    "X = [] # images\n",
    "y = [] # labels (0 for benign, 1 for malignant)\n",
    "splits = ['train', 'val', 'test']\n",
    "\n",
    "def create_arrays(split):\n",
    "    X = []\n",
    "    y = []\n",
    "    if split == 'train':\n",
    "        img_dir = train_dir\n",
    "    if split == 'val':\n",
    "        img_dir = val_dir\n",
    "    if split == 'test':\n",
    "        img_dir = test_dir\n",
    "\n",
    "    classes = ['benign', 'malignant']\n",
    "\n",
    "    for class_name in classes:\n",
    "        \n",
    "        class_dir = os.path.join(img_dir, class_name)\n",
    "        \n",
    "        images = [f for f in os.listdir(class_dir) if not f.startswith('.DS_Store')]\n",
    "\n",
    "        for img in images:\n",
    "            img = preprocessing(os.path.join(class_dir, img))\n",
    "            X.append(img)\n",
    "            if class_name == 'benign':\n",
    "                y.append(0)\n",
    "            if class_name == 'malignant':\n",
    "                y.append(1)\n",
    "\n",
    "    X = np.array(X)\n",
    "    y = pd.DataFrame(y, columns=['class_name'])\n",
    "\n",
    "    return X, y\n",
    "\n",
    "X_train, y_train = create_arrays('train')\n",
    "X_val, y_val = create_arrays('val')\n",
    "X_test, y_test = create_arrays('test')"
   ]
  },
  {
   "cell_type": "code",
   "execution_count": 16,
   "metadata": {},
   "outputs": [
    {
     "name": "stdout",
     "output_type": "stream",
     "text": [
      "(396, 128, 128, 3)\n",
      "(108, 128, 128, 3)\n",
      "(43, 128, 128, 3)\n"
     ]
    }
   ],
   "source": [
    "print(X_train.shape)\n",
    "print(X_val.shape)\n",
    "print(X_test.shape)"
   ]
  },
  {
   "cell_type": "markdown",
   "metadata": {},
   "source": [
    "#### Normalize image data"
   ]
  },
  {
   "cell_type": "code",
   "execution_count": 18,
   "metadata": {},
   "outputs": [],
   "source": [
    "from sklearn.preprocessing import StandardScaler\n",
    "\n",
    "ss = StandardScaler()\n",
    "\n",
    "for image in X_train:\n",
    "    for channel in range(image.shape[2]):\n",
    "        image[:, :, channel] = ss.fit_transform(image[:, :, channel])\n",
    "for image in X_val:\n",
    "    for channel in range(image.shape[2]):\n",
    "        image[:, :, channel] = ss.transform(image[:, :, channel])\n",
    "for image in X_test:\n",
    "    for channel in range(image.shape[2]):\n",
    "        image[:, :, channel] = ss.transform(image[:, :, channel])    "
   ]
  },
  {
   "cell_type": "markdown",
   "metadata": {},
   "source": [
    "#### Handle class imbalance"
   ]
  },
  {
   "cell_type": "code",
   "execution_count": 33,
   "metadata": {},
   "outputs": [
    {
     "name": "stdout",
     "output_type": "stream",
     "text": [
      "{0: 0.7071428571428572, 1: 1.706896551724138}\n"
     ]
    }
   ],
   "source": [
    "from sklearn.utils import class_weight\n",
    "\n",
    "y_labels = y_train['class_name'].values\n",
    "class_weights = class_weight.compute_class_weight(class_weight='balanced', classes=np.unique(y_labels), y=y_labels)\n",
    "class_weights = dict(enumerate(class_weights))\n",
    "print(class_weights)"
   ]
  },
  {
   "cell_type": "markdown",
   "metadata": {},
   "source": [
    "#### Model Building (Part 1)"
   ]
  },
  {
   "cell_type": "code",
   "execution_count": 39,
   "metadata": {},
   "outputs": [],
   "source": [
    "import keras\n",
    "from keras.models import Sequential\n",
    "from keras.layers import Dense, Dropout, Flatten, Conv2D, MaxPooling2D\n"
   ]
  },
  {
   "cell_type": "code",
   "execution_count": 40,
   "metadata": {},
   "outputs": [
    {
     "name": "stderr",
     "output_type": "stream",
     "text": [
      "/Users/jenniferjordache/Developer/Kaggle-Breast-Cancer/breast_cancer_venv/lib/python3.10/site-packages/keras/src/layers/convolutional/base_conv.py:107: UserWarning: Do not pass an `input_shape`/`input_dim` argument to a layer. When using Sequential models, prefer using an `Input(shape)` object as the first layer in the model instead.\n",
      "  super().__init__(activity_regularizer=activity_regularizer, **kwargs)\n"
     ]
    }
   ],
   "source": [
    "num_classes = 1\n",
    "\n",
    "model = Sequential()\n",
    "\n",
    "model.add(Conv2D(32, kernel_size=(3, 3), activation='relu', input_shape=(128, 128, 3)))\n",
    "\n",
    "model.add(Conv2D(64, kernel_size=(3, 3), activation='relu'))"
   ]
  },
  {
   "cell_type": "code",
   "execution_count": null,
   "metadata": {},
   "outputs": [],
   "source": [
    "''' Code for splitting images into validation set\n",
    "\n",
    "validation_split = 0.2  # 20%\n",
    "\n",
    "classes = ['benign', 'malignant']\n",
    "\n",
    "for class_name in classes:\n",
    "    class_train_dir = os.path.join(train_dir, class_name)\n",
    "    class_val_dir = os.path.join(val_dir, class_name)\n",
    "\n",
    "    image_files = [f for f in os.listdir(class_train_dir) if os.path.isfile(os.path.join(class_train_dir, f))]\n",
    "\n",
    "    num_validation_images = int(len(image_files) * validation_split)\n",
    "\n",
    "    validation_images = random.sample(image_files, num_validation_images)\n",
    "\n",
    "    for img in validation_images:\n",
    "        src = os.path.join(class_train_dir, img)\n",
    "        dst = os.path.join(class_val_dir, img)\n",
    "        shutil.move(src, dst)\n",
    "\n",
    "'''"
   ]
  }
 ],
 "metadata": {
  "kernelspec": {
   "display_name": "breast_cancer_venv",
   "language": "python",
   "name": "python3"
  },
  "language_info": {
   "codemirror_mode": {
    "name": "ipython",
    "version": 3
   },
   "file_extension": ".py",
   "mimetype": "text/x-python",
   "name": "python",
   "nbconvert_exporter": "python",
   "pygments_lexer": "ipython3",
   "version": "3.10.0"
  }
 },
 "nbformat": 4,
 "nbformat_minor": 2
}
