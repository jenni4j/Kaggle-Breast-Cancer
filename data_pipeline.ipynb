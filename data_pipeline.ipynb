{
 "cells": [
  {
   "cell_type": "code",
   "execution_count": 5,
   "metadata": {},
   "outputs": [],
   "source": [
    "import pandas as pd\n",
    "import numpy as np\n",
    "from PIL import Image\n",
    "\n",
    "import os\n",
    "import random\n",
    "import shutil"
   ]
  },
  {
   "cell_type": "code",
   "execution_count": 6,
   "metadata": {},
   "outputs": [],
   "source": [
    "data_dir = os.getcwd() + \"/datasets\"\n",
    "train_dir = data_dir + \"/train\"\n",
    "val_dir = data_dir + \"/val\"\n",
    "test_dir = data_dir +  \"/test\""
   ]
  },
  {
   "cell_type": "code",
   "execution_count": 9,
   "metadata": {},
   "outputs": [
    {
     "name": "stdout",
     "output_type": "stream",
     "text": [
      "Validation set created successfully.\n"
     ]
    }
   ],
   "source": [
    "'''\n",
    "validation_split = 0.2  # 20%\n",
    "\n",
    "classes = ['benign', 'malignant']\n",
    "\n",
    "for class_name in classes:\n",
    "    class_train_dir = os.path.join(train_dir, class_name)\n",
    "    class_val_dir = os.path.join(val_dir, class_name)\n",
    "\n",
    "    image_files = [f for f in os.listdir(class_train_dir) if os.path.isfile(os.path.join(class_train_dir, f))]\n",
    "\n",
    "    num_validation_images = int(len(image_files) * validation_split)\n",
    "\n",
    "    validation_images = random.sample(image_files, num_validation_images)\n",
    "\n",
    "    for img in validation_images:\n",
    "        src = os.path.join(class_train_dir, img)\n",
    "        dst = os.path.join(class_val_dir, img)\n",
    "        shutil.move(src, dst)\n",
    "\n",
    "'''"
   ]
  },
  {
   "cell_type": "code",
   "execution_count": null,
   "metadata": {},
   "outputs": [],
   "source": [
    "# Next steps:\n",
    "# 2) Load each image and their label into an array\n",
    "# 3) Deal with class imbalance"
   ]
  },
  {
   "cell_type": "code",
   "execution_count": null,
   "metadata": {},
   "outputs": [],
   "source": [
    "'''\n",
    "def create_dataset(dataset_path):\n",
    "    data = {'x_dim': [], 'y_dim': [], 'label': [], 'num_of_masks': [], 'path': []}\n",
    "\n",
    "    for label in ['benign', 'malignant']:\n",
    "        class_dir = os.path.join(dataset_path, label)\n",
    "\n",
    "        for file in os.listdir(class_dir):\n",
    "            if not file.startswith('.'): \n",
    "                study_id = file.split('.')[0]\n",
    "                img_path = os.path.join(class_dir, file)\n",
    "                img = Image.open(img_path)\n",
    "                x_dim, y_dim = img.size\n",
    "\n",
    "                num_of_masks = sum(1 for f in os.listdir(current_directory + \"/datasets/masks/training_set/\" + label) if f.startswith(study_id))\n",
    "                data['x_dim'].append(x_dim)\n",
    "                data['y_dim'].append(y_dim)\n",
    "                data['label'].append(label)\n",
    "                data['num_of_masks'].append(num_of_masks)\n",
    "                data['path'].append(img_path)\n",
    "\n",
    "    df = pd.DataFrame(data)\n",
    "    return df\n",
    "\n",
    "df = create_dataset(train_path)\n",
    "df.describe()\n",
    "'''"
   ]
  }
 ],
 "metadata": {
  "kernelspec": {
   "display_name": "breast_cancer_venv",
   "language": "python",
   "name": "python3"
  },
  "language_info": {
   "codemirror_mode": {
    "name": "ipython",
    "version": 3
   },
   "file_extension": ".py",
   "mimetype": "text/x-python",
   "name": "python",
   "nbconvert_exporter": "python",
   "pygments_lexer": "ipython3",
   "version": "3.10.0"
  }
 },
 "nbformat": 4,
 "nbformat_minor": 2
}
